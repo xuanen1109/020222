{
 "cells": [
  {
   "cell_type": "code",
   "execution_count": null,
   "metadata": {},
   "outputs": [],
   "source": [
    "#自訂function\n",
    "#沒有參數\n",
    "#沒有傳出值\n",
    "\n",
    "#定義function\n",
    "def sayHello()->None:\n",
    "    print(\"Hello! World!\")\n",
    "\n",
    "sayHello()"
   ]
  },
  {
   "cell_type": "code",
   "execution_count": null,
   "metadata": {},
   "outputs": [],
   "source": [
    "#自訂function\n",
    "#1個參數\n",
    "#沒有傳出值\n",
    "\n",
    "def hello_friend(name:str)->None:\n",
    "    print(f\"Hello! {name}\")\n",
    "\n",
    "#呼叫function\n",
    "hello_friend(\"Robert\")"
   ]
  },
  {
   "cell_type": "code",
   "execution_count": null,
   "metadata": {},
   "outputs": [],
   "source": [
    "#自訂function\n",
    "#1個參數\n",
    "#有傳出值字串\n",
    "\n",
    "def hello_again(name:str)->str:\n",
    "    return f'hello {name} again!'\n",
    "\n",
    "message:str = hello_again(\"robert\")\n",
    "print(message)"
   ]
  },
  {
   "cell_type": "code",
   "execution_count": null,
   "metadata": {},
   "outputs": [],
   "source": [
    "def circle_area(radius:float) -> float:\n",
    "    PI:float = 3.1415926\n",
    "    return PI * radius ** 2\n",
    "\n",
    "area:float = circle_area(radius=100)\n",
    "print(f\"圓面積是:{area:.2f}\")\n",
    "\n",
    "area1:float = circle_area(radius=1000)\n",
    "print(f\"圓面積是:{area1:.2f}\")\n"
   ]
  },
  {
   "cell_type": "code",
   "execution_count": 8,
   "metadata": {},
   "outputs": [
    {
     "name": "stdout",
     "output_type": "stream",
     "text": [
      "餐前酒:白酒\n",
      "主菜:牛排\n",
      "甜點:蛋糕\n"
     ]
    }
   ],
   "source": [
    "menu('白酒','牛排','蛋糕')"
   ]
  },
  {
   "cell_type": "code",
   "execution_count": 9,
   "metadata": {},
   "outputs": [
    {
     "name": "stdout",
     "output_type": "stream",
     "text": [
      "餐前酒:白酒\n",
      "主菜:牛排\n",
      "甜點:蛋糕\n"
     ]
    }
   ],
   "source": [
    "menu('白酒','牛排','蛋糕')"
   ]
  },
  {
   "cell_type": "code",
   "execution_count": 5,
   "metadata": {},
   "outputs": [
    {
     "name": "stdout",
     "output_type": "stream",
     "text": [
      "餐前酒:白酒\n",
      "主菜:牛排\n",
      "甜點:蛋糕\n"
     ]
    }
   ],
   "source": [
    "#混合呼叫\n",
    "#前面一定是引數值呼叫\n",
    "#後面引數名稱呼叫\n",
    "#引數名稱呼叫後,後面全部都要用引數名稱呼叫\n",
    "\n",
    "menu('白酒',dessert='蛋糕',entree='牛排')"
   ]
  },
  {
   "cell_type": "code",
   "execution_count": 10,
   "metadata": {},
   "outputs": [],
   "source": [
    "#參數有default value一定要寫在最後\n",
    "def menu1(wine:str,entree:str,dessert:str='奶昔'):\n",
    "    print(f\"餐前酒:{wine}\")\n",
    "    print(f\"主菜:{entree}\")\n",
    "    print(f\"甜點:{dessert}\")"
   ]
  },
  {
   "cell_type": "code",
   "execution_count": 5,
   "metadata": {},
   "outputs": [
    {
     "name": "stdout",
     "output_type": "stream",
     "text": [
      "頭盤: 白酒\n",
      "甜點: 蛋糕\n",
      "主菜: 牛排\n"
     ]
    }
   ],
   "source": [
    "#混合呼叫\n",
    "#前面一定是引數值呼叫\n",
    "#後面引數名稱呼叫\n",
    "#引數名稱呼叫後,後面全部都要用引數名稱呼叫\n",
    "\n",
    "menu('白酒','蛋糕','牛排')"
   ]
  },
  {
   "cell_type": "code",
   "execution_count": 1,
   "metadata": {},
   "outputs": [],
   "source": [
    "def menu(appetizer, dessert, main_course):\n",
    "    print(\"頭盤:\", appetizer)\n",
    "    print(\"甜點:\", dessert)\n",
    "    print(\"主菜:\", main_course)"
   ]
  },
  {
   "cell_type": "code",
   "execution_count": 9,
   "metadata": {},
   "outputs": [
    {
     "name": "stdout",
     "output_type": "stream",
     "text": [
      "頭盤: 冰淇淋\n",
      "甜點: 炸雞\n",
      "主菜: 薯條\n"
     ]
    }
   ],
   "source": [
    "menu(main_course='薯條',appetizer='冰淇淋', dessert='炸雞')\n"
   ]
  },
  {
   "cell_type": "code",
   "execution_count": 11,
   "metadata": {},
   "outputs": [
    {
     "name": "stdout",
     "output_type": "stream",
     "text": [
      "所有的引數值是(1, 2, 'a', 'b', 'd', 10.0)\n",
      "所有的引數值是()\n"
     ]
    }
   ],
   "source": [
    "def print_args(*args):\n",
    "    print(f\"所有的引數值是{args}\")\n",
    "\n",
    "print_args(1, 2, 'a', 'b', 'd',10.0)\n",
    "print_args()"
   ]
  },
  {
   "cell_type": "code",
   "execution_count": 13,
   "metadata": {},
   "outputs": [
    {
     "name": "stdout",
     "output_type": "stream",
     "text": [
      "所有的引數名稱的呼叫{'tw': '台灣', 'jp': '日本', 'us': '美國'}\n",
      "所有的引數名稱的呼叫{}\n"
     ]
    }
   ],
   "source": [
    "def print_kwargs(**kwargs):\n",
    "    print(f\"所有的引數名稱的呼叫{kwargs}\")\n",
    "\n",
    "print_kwargs(tw='台灣',jp='日本',us='美國')\n",
    "print_kwargs()"
   ]
  },
  {
   "cell_type": "code",
   "execution_count": 18,
   "metadata": {},
   "outputs": [
    {
     "name": "stdout",
     "output_type": "stream",
     "text": [
      "所有的引數名稱的呼叫{'tw': '台灣', 'jp': '日本', 'us': '美國'}\n"
     ]
    }
   ],
   "source": [
    "print_kwargs(tw='台灣',jp='日本',us='美國')"
   ]
  },
  {
   "cell_type": "code",
   "execution_count": 19,
   "metadata": {},
   "outputs": [
    {
     "name": "stdout",
     "output_type": "stream",
     "text": [
      "a 1 2 5\n"
     ]
    }
   ],
   "source": [
    "print('a','1','2',5)"
   ]
  },
  {
   "cell_type": "code",
   "execution_count": 20,
   "metadata": {},
   "outputs": [
    {
     "name": "stdout",
     "output_type": "stream",
     "text": [
      "a 1 2 5 True\n"
     ]
    }
   ],
   "source": [
    "print('a','1','2',5,True)"
   ]
  },
  {
   "cell_type": "code",
   "execution_count": 23,
   "metadata": {},
   "outputs": [
    {
     "name": "stdout",
     "output_type": "stream",
     "text": [
      "a-1-2-5-True5555\n"
     ]
    }
   ],
   "source": [
    "print('a','1','2',5,True,sep='-',end='5555\\n')"
   ]
  },
  {
   "cell_type": "code",
   "execution_count": null,
   "metadata": {},
   "outputs": [],
   "source": []
  }
 ],
 "metadata": {
  "kernelspec": {
   "display_name": "Python 3",
   "language": "python",
   "name": "python3"
  },
  "language_info": {
   "codemirror_mode": {
    "name": "ipython",
    "version": 3
   },
   "file_extension": ".py",
   "mimetype": "text/x-python",
   "name": "python",
   "nbconvert_exporter": "python",
   "pygments_lexer": "ipython3",
   "version": "3.10.13"
  }
 },
 "nbformat": 4,
 "nbformat_minor": 2
}
