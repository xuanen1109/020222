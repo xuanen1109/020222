{
 "cells": [
  {
   "cell_type": "code",
   "execution_count": 1,
   "metadata": {},
   "outputs": [
    {
     "name": "stdout",
     "output_type": "stream",
     "text": [
      "您的名字：黃宣恩，您的身高:178.0公分，您的體重:68.0公斤，您的BMI為:21.46\n"
     ]
    }
   ],
   "source": [
    "# 請求用戶輸入姓名、身高和體重\n",
    "name = input('請輸入您的姓名:')\n",
    "height = float(input('請輸入您的身高(公分):'))\n",
    "weight = float(input('請輸入您的體重(公斤):'))\n",
    "\n",
    "# 根據輸入計算 BMI\n",
    "BMI = weight / (height / 100) ** 2\n",
    "\n",
    "# 輸出結果，包括姓名、身高、體重和 BMI 值\n",
    "print(f'您的名字：{name}，您的身高:{height}公分，您的體重:{weight}公斤，您的BMI為:{BMI:.2f}')"
   ]
  },
  {
   "cell_type": "code",
   "execution_count": 1,
   "metadata": {},
   "outputs": [
    {
     "name": "stdout",
     "output_type": "stream",
     "text": [
      "斜邊:5,對邊:5\n",
      "三角形的角度是90.00\n"
     ]
    }
   ],
   "source": [
    "#求直角三角形的角度\n",
    "#高中數學\n",
    "import math\n",
    "side = eval(input(\"請輸入斜邊:\"))\n",
    "another = eval(input(\"請輸入對邊:\"))\n",
    "radian = math.asin(another/side)\n",
    "degree = math.degrees(radian)\n",
    "\n",
    "print(f'斜邊:{side},對邊:{another}')\n",
    "print(f'三角形的角度是{degree:.2f}')"
   ]
  },
  {
   "cell_type": "code",
   "execution_count": 2,
   "metadata": {},
   "outputs": [
    {
     "name": "stdout",
     "output_type": "stream",
     "text": [
      "7.0\n",
      "7.0\n",
      "5.94418483337567\n",
      "1.8257418583505538\n"
     ]
    }
   ],
   "source": [
    "#大學數學\n",
    "import statistics\n",
    "print((0+5+9+14)/4)\n",
    "print((5+6+8+9)/4)\n",
    "\n",
    "print(statistics.stdev([0, 5, 9, 14]))\n",
    "print(statistics.stdev([5, 6, 8, 9]))"
   ]
  },
  {
   "cell_type": "code",
   "execution_count": 3,
   "metadata": {},
   "outputs": [
    {
     "name": "stdout",
     "output_type": "stream",
     "text": [
      "5.94418483337567\n"
     ]
    }
   ],
   "source": [
    "print(statistics.stdev([0, 5, 9, 14]))"
   ]
  },
  {
   "cell_type": "code",
   "execution_count": 4,
   "metadata": {},
   "outputs": [
    {
     "data": {
      "text/plain": [
       "True"
      ]
     },
     "execution_count": 4,
     "metadata": {},
     "output_type": "execute_result"
    }
   ],
   "source": [
    "5==5"
   ]
  },
  {
   "cell_type": "code",
   "execution_count": 5,
   "metadata": {},
   "outputs": [
    {
     "name": "stdout",
     "output_type": "stream",
     "text": [
      "不及格\n",
      "程式結束\n"
     ]
    }
   ],
   "source": [
    "score = int(input(\"請輸入學生分數:\"))\n",
    "\n",
    "#雙項選擇\n",
    "if score >= 60:\n",
    "    print(\"及格\")\n",
    "else:\n",
    "    print(\"不及格\")\n",
    "\n",
    "print(\"程式結束\")"
   ]
  },
  {
   "cell_type": "code",
   "execution_count": 6,
   "metadata": {},
   "outputs": [
    {
     "name": "stdout",
     "output_type": "stream",
     "text": [
      "學生總分為3\n"
     ]
    }
   ],
   "source": [
    "#學生總分為300\n",
    "#有些學生可以加分5%\n",
    "scores = int(input(\"請輸入學生分數(最高300分):\"))\n",
    "is_add = input(\"學生是否符合加分條件?(y,n)\")\n",
    "\n",
    "if is_add == \"y\":\n",
    "    scores *= 1.05\n",
    "\n",
    "print(f'學生總分為{round(scores)}')"
   ]
  },
  {
   "cell_type": "code",
   "execution_count": 7,
   "metadata": {},
   "outputs": [
    {
     "name": "stdout",
     "output_type": "stream",
     "text": [
      "round(3.14159)\n",
      "3\n"
     ]
    }
   ],
   "source": [
    "print(f\"round(3.14159)\")\n",
    "print(round(3.14159))\n"
   ]
  },
  {
   "cell_type": "code",
   "execution_count": 8,
   "metadata": {},
   "outputs": [
    {
     "name": "stdout",
     "output_type": "stream",
     "text": [
      "學生總分為5\n"
     ]
    }
   ],
   "source": [
    "#學生總分為300\n",
    "#有些學生可以加分5%\n",
    "#如果加分超過300,就以300分為準\n",
    "scores = int(input(\"請輸入學生分數(最高300分):\"))\n",
    "is_add = input(\"學生是否符合加分條件?(y,n)\")\n",
    "\n",
    "if is_add == \"y\":\n",
    "    scores *= 1.05\n",
    "    if scores > 300:\n",
    "        scores = 300\n",
    "\n",
    "print(f'學生總分為{round(scores)}')"
   ]
  },
  {
   "cell_type": "code",
   "execution_count": 9,
   "metadata": {},
   "outputs": [
    {
     "name": "stdout",
     "output_type": "stream",
     "text": [
      "學生總分為58\n"
     ]
    }
   ],
   "source": [
    "#學生總分為300\n",
    "#有些學生可以加分5%\n",
    "#如果加分超過300,就以300分為準\n",
    "#檢查學生輸入有沒有超過300分,超過請顯示提示\n",
    "\n",
    "scores = int(input(\"請輸入學生分數(最高300分):\"))\n",
    "if scores <= 300:\n",
    "    is_add = input(\"學生是否符合加分條件?(y,n)\")\n",
    "\n",
    "    if is_add == \"y\":\n",
    "        scores *= 1.05\n",
    "        if scores > 300:\n",
    "            scores = 300\n",
    "\n",
    "    print(f'學生總分為{round(scores)}')\n",
    "else:\n",
    "    print('輸入超出範圍')"
   ]
  },
  {
   "cell_type": "code",
   "execution_count": 10,
   "metadata": {},
   "outputs": [
    {
     "ename": "SyntaxError",
     "evalue": "invalid syntax (1996143579.py, line 2)",
     "output_type": "error",
     "traceback": [
      "\u001b[0;36m  Cell \u001b[0;32mIn[10], line 2\u001b[0;36m\u001b[0m\n\u001b[0;31m    if scores <=300:is_add = :input(\"學生是否符合加分條件?(y,n)\")\u001b[0m\n\u001b[0m                             ^\u001b[0m\n\u001b[0;31mSyntaxError\u001b[0m\u001b[0;31m:\u001b[0m invalid syntax\n"
     ]
    }
   ],
   "source": [
    "scores = int(input(\"請輸入學生分數(最高300分):\"))\n",
    "if scores <=300:is_add = :input(\"學生是否符合加分條件?(y,n)\")\n",
    "    \n"
   ]
  },
  {
   "cell_type": "code",
   "execution_count": null,
   "metadata": {},
   "outputs": [],
   "source": [
    "#學生總分為300\n",
    "#有些學生可以加分5%\n",
    "#如果加分超過300,就以300分為準\n",
    "#檢查學生輸入有沒有超過300分,超過請顯示提示\n",
    "\n",
    "scores = int(input(\"請輸入學生分數(最高300分):\"))\n",
    "if scores <= 300:\n",
    "    is_add = input(\"學生是否符合加分條件?(y,n)\")\n",
    "\n",
    "    if is_add == \"y\":\n",
    "        scores *= 1.05\n",
    "        if scores > 300:\n",
    "            scores = 300\n",
    "\n",
    "    print(f'學生總分為{round(scores)}')\n",
    "else:\n",
    "    print('輸入超出範圍')"
   ]
  },
  {
   "cell_type": "code",
   "execution_count": null,
   "metadata": {},
   "outputs": [],
   "source": [
    "#學生總分為300\n",
    "#有些學生可以加分5%\n",
    "#如果加分超過300,就以300分為準\n",
    "#檢查學生輸入有沒有超過300分,超過請顯示提示\n",
    "#檢查學生輸入是否小於0分,超過請顯示提示\n",
    "\n",
    "scores = int(input(\"請輸入學生分數(最高300分):\"))\n",
    "if scores <= 300 and scores >= 0:    \n",
    "    is_add = input(\"學生是否符合加分條件?(y,n)\")\n",
    "\n",
    "    if is_add == \"y\":\n",
    "        scores *= 1.05\n",
    "        if scores > 300:\n",
    "            scores = 300\n",
    "\n",
    "    print(f'學生總分為{round(scores)}')\n",
    "    \n",
    "else:\n",
    "    print('輸入不在範圍內')"
   ]
  },
  {
   "cell_type": "code",
   "execution_count": null,
   "metadata": {},
   "outputs": [
    {
     "name": "stdout",
     "output_type": "stream",
     "text": [
      "輸入格式錯誤\n"
     ]
    }
   ],
   "source": [
    "#解決raise 錯誤的語法\n",
    "#try...except\n",
    "try:\n",
    "    money = eval(input(\"請輸入金額:\"))\n",
    "    print(money)\n",
    "except:\n",
    "    print(\"輸入格式錯誤\")"
   ]
  },
  {
   "cell_type": "code",
   "execution_count": null,
   "metadata": {},
   "outputs": [],
   "source": [
    "#解決raise 錯誤的語法\n",
    "#try...except...else\n",
    "try:\n",
    "    money = eval(input(\"請輸入金額:\"))\n",
    "    print(money)\n",
    "except:\n",
    "    print(\"輸入格式錯誤\")\n",
    "else:\n",
    "    print(\"程式沒有錯誤\")"
   ]
  },
  {
   "cell_type": "code",
   "execution_count": null,
   "metadata": {},
   "outputs": [],
   "source": [
    "#學生總分為300\n",
    "#有些學生可以加分5%\n",
    "#如果加分超過300,就以300分為準\n",
    "#檢查學生輸入有沒有超過300分,超過請顯示提示\n",
    "#檢查學生輸入是否小於0分,超過請顯示提示\n",
    "#檢查使用者輸入的格式是否有錯\n",
    "try:\n",
    "    scores = int(input(\"請輸入學生分數(最高300分):\"))\n",
    "    if scores <= 300 and scores >= 0:    \n",
    "        is_add = input(\"學生是否符合加分條件?(y,n)\")\n",
    "\n",
    "        if is_add == \"y\":\n",
    "            scores *= 1.05\n",
    "            if scores > 300:\n",
    "                scores = 300\n",
    "\n",
    "        print(f'學生總分為{round(scores)}')\n",
    "        \n",
    "    else:\n",
    "        print('輸入不在範圍內')\n",
    "except:\n",
    "    print(\"輸入格式有誤\")"
   ]
  },
  {
   "cell_type": "code",
   "execution_count": null,
   "metadata": {},
   "outputs": [
    {
     "name": "stdout",
     "output_type": "stream",
     "text": [
      "小於60\n"
     ]
    }
   ],
   "source": [
    "value = eval(input('請輸入一個數值:'))\n",
    "if value < 60:\n",
    "    print('小於60')\n",
    "elif value >=60 and value < 80:\n",
    "    print(\"在60和80之間\")\n",
    "elif value >=80 and value < 90:\n",
    "    print(\"在80和90之間\")\n",
    "else:\n",
    "    print(\"大於等於90\")"
   ]
  },
  {
   "cell_type": "code",
   "execution_count": 7,
   "metadata": {},
   "outputs": [
    {
     "name": "stdout",
     "output_type": "stream",
     "text": [
      "您的 BMI 為：25.38，屬於\"過重\"範疇。\n"
     ]
    }
   ],
   "source": [
    "try:\n",
    "    height_cm = eval(input('請輸入您的身高（公分）：'))\n",
    "    weight_kg = eval(input('請輸入您的體重（公斤）：'))\n",
    "\n",
    "    height_m = height_cm / 100  \n",
    "    bmi = weight_kg / (height_m ** 2)\n",
    "\n",
    "    if bmi < 18.5:\n",
    "        category = '體重過輕'\n",
    "    elif 18.5 <= bmi < 24:\n",
    "        category = '正常範圍'\n",
    "    elif 24 <= bmi < 27:\n",
    "        category = '過重'\n",
    "    elif 27 <= bmi < 30:\n",
    "        category = '輕度肥胖'\n",
    "    else: category = '重度肥胖'\n",
    "    print(f'您的 BMI 為：{bmi:.2f}，屬於\"{category}\"範疇。')\n",
    "\n",
    "except:\n",
    "    print('格式錯誤,不做任何運算')"
   ]
  },
  {
   "cell_type": "code",
   "execution_count": 7,
   "metadata": {},
   "outputs": [
    {
     "name": "stdout",
     "output_type": "stream",
     "text": [
      "您的身高為:180,體重為:60\n",
      "您的BMI為:19\n"
     ]
    }
   ],
   "source": [
    "high = eval(input(\"請輸入身高(公分)\"))/100\n",
    "weight = eval (input(\"請輸入體重(公斤)\"))\n",
    "bmi = weight/(high)**2\n",
    "print(f\"您的身高為:{high*100:.0f},體重為:{weight}\")\n",
    "print(f\"您的BMI為:{bmi:.0f}\")\n"
   ]
  },
  {
   "cell_type": "code",
   "execution_count": 2,
   "metadata": {},
   "outputs": [
    {
     "ename": "NameError",
     "evalue": "name 'math' is not defined",
     "output_type": "error",
     "traceback": [
      "\u001b[0;31m---------------------------------------------------------------------------\u001b[0m",
      "\u001b[0;31mNameError\u001b[0m                                 Traceback (most recent call last)",
      "Cell \u001b[0;32mIn[2], line 1\u001b[0m\n\u001b[0;32m----> 1\u001b[0m help(\u001b[43mmath\u001b[49m\u001b[38;5;241m.\u001b[39minputFloat)\n",
      "\u001b[0;31mNameError\u001b[0m: name 'math' is not defined"
     ]
    }
   ],
   "source": [
    "help(math.inputFloat)"
   ]
  },
  {
   "cell_type": "code",
   "execution_count": 6,
   "metadata": {},
   "outputs": [
    {
     "name": "stdout",
     "output_type": "stream",
     "text": [
      "斜邊=5,對邊=5\n",
      "角度=90.0\n"
     ]
    }
   ],
   "source": [
    "#求直角三角形的角度\n",
    "import math\n",
    "side = eval(input(\"請輸入斜邊:\"))\n",
    "another = eval(input(\"請輸入對邊\"))\n",
    "radian = math.asin(another/side)\n",
    "degree = math.degrees(radian)\n",
    "\n",
    "print(f\"斜邊={side},對邊={another}\")\n",
    "print(f\"角度={degree:.1f}\")"
   ]
  },
  {
   "cell_type": "code",
   "execution_count": 15,
   "metadata": {},
   "outputs": [
    {
     "name": "stdout",
     "output_type": "stream",
     "text": [
      "7.0\n",
      "7.0\n",
      "5.94418483337567\n",
      "1.8257418583505538\n"
     ]
    }
   ],
   "source": [
    "#大學數學\n",
    "\n",
    "print((0+5+9+14)/4)\n",
    "\n",
    "\n",
    "\n",
    "        print(statistics.stdev([0, 5, 9, 14]))\n",
    "print(statistics.stdev([5, 6, 8, 9]))"
   ]
  },
  {
   "cell_type": "code",
   "execution_count": null,
   "metadata": {},
   "outputs": [],
   "source": [
    "\n"
   ]
  },
  {
   "cell_type": "code",
   "execution_count": 13,
   "metadata": {},
   "outputs": [
    {
     "name": "stdout",
     "output_type": "stream",
     "text": [
      "7.0\n",
      "5.94418483337567\n"
     ]
    }
   ],
   "source": [
    "print((0+5+9+14)/4)\n",
    "print(statistics.stdev({0,5,9,14}))"
   ]
  },
  {
   "cell_type": "code",
   "execution_count": null,
   "metadata": {},
   "outputs": [],
   "source": [
    "#學生總分為300\n",
    "#有些學生可以加分5%\n",
    "#如果加分超過300,就以300分為準\n",
    "#檢查學生輸入有沒有超過300分,超過請顯示提示\n",
    "#檢查學生輸入是否小於0分,超過請顯示提示\n",
    "\n",
    "scores = int(input(\"請輸入學生分數(最高300分):\"))\n",
    "if scores <= 300 and scores >= 0:    \n",
    "    is_add = input(\"學生是否符合加分條件?(y,n)\")\n",
    "\n",
    "    if is_add == \"y\":\n",
    "        scores *= 1.05\n",
    "        if scores > 300:\n",
    "            scores = 300\n",
    "\n",
    "    print(f'學生總分為{round(scores)}')\n",
    "    \n",
    "else:\n",
    "    print('輸入不在範圍內')"
   ]
  },
  {
   "cell_type": "code",
   "execution_count": 2,
   "metadata": {},
   "outputs": [
    {
     "ename": "IndentationError",
     "evalue": "expected an indented block after 'if' statement on line 11 (4066914946.py, line 12)",
     "output_type": "error",
     "traceback": [
      "\u001b[0;36m  Cell \u001b[0;32mIn[2], line 12\u001b[0;36m\u001b[0m\n\u001b[0;31m    scores *= 1.05\u001b[0m\n\u001b[0m    ^\u001b[0m\n\u001b[0;31mIndentationError\u001b[0m\u001b[0;31m:\u001b[0m expected an indented block after 'if' statement on line 11\n"
     ]
    }
   ],
   "source": [
    "#學生總分為300\n",
    "#有些學生可以加分5%\n",
    "#如果加分超過300,就以300分為準\n",
    "#檢查學生輸入有沒有超過300分,超過請顯示提示\n",
    "\n",
    "scores = int(input(\"請輸入學生分數(最高300分):\"))\n",
    "if scores <= 300:\n",
    "    if scores >= 0:\n",
    "        is_add = input(\"學生是否符合加分條件?(y,n)\")\n",
    "\n",
    "        if is_add == \"y\":\n",
    "        scores *= 1.05\n",
    "        if scores > 300:\n",
    "            scores = 300\n",
    "        \n",
    "        print(f'學生總分為{round(scores)}')\n",
    "    else:\n",
    "        print('輸入不在範圍')\n",
    "else:\n",
    "     print('輸入超出範圍')"
   ]
  },
  {
   "cell_type": "code",
   "execution_count": null,
   "metadata": {},
   "outputs": [],
   "source": [
    "#學生總分為300\n",
    "#有些學生可以加分5%\n",
    "#如果加分超過300,就以300分為準\n",
    "#檢查學生輸入有沒有超過300分,超過請顯示提示\n",
    "\n",
    "scores = int(input(\"請輸入學生分數(最高300分):\"))\n",
    "if scores <= 300:\n",
    "    is_add = input(\"學生是否符合加分條件?(y,n)\")\n",
    "\n",
    "    if is_add == \"y\":\n",
    "       scores *= 1.05\n",
    "       if scores > 300:\n",
    "          scores = 300\n",
    "    \n",
    "    print(f'學生總分為{round(scores)}')\n",
    "else:\n",
    "     print('輸入超出範圍')"
   ]
  }
 ],
 "metadata": {
  "kernelspec": {
   "display_name": "Python 3",
   "language": "python",
   "name": "python3"
  },
  "language_info": {
   "codemirror_mode": {
    "name": "ipython",
    "version": 3
   },
   "file_extension": ".py",
   "mimetype": "text/x-python",
   "name": "python",
   "nbconvert_exporter": "python",
   "pygments_lexer": "ipython3",
   "version": "3.10.13"
  }
 },
 "nbformat": 4,
 "nbformat_minor": 2
}
