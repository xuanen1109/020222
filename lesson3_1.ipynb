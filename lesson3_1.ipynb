{
 "cells": [
  {
   "cell_type": "code",
   "execution_count": null,
   "metadata": {},
   "outputs": [],
   "source": [
    "print(\"HELLO!! PYTHON!!\")"
   ]
  },
  {
   "cell_type": "code",
   "execution_count": null,
   "metadata": {},
   "outputs": [],
   "source": []
  },
  {
   "cell_type": "code",
   "execution_count": 1,
   "metadata": {},
   "outputs": [
    {
     "data": {
      "text/plain": [
       "5"
      ]
     },
     "execution_count": 1,
     "metadata": {},
     "output_type": "execute_result"
    }
   ],
   "source": [
    "n = input('請輸入整數') \n",
    "#檢查型別\n",
    "type(n)\n",
    "\n",
    "int(n)"
   ]
  },
  {
   "cell_type": "code",
   "execution_count": 2,
   "metadata": {},
   "outputs": [
    {
     "ename": "ValueError",
     "evalue": "invalid literal for int() with base 10: '50.8'",
     "output_type": "error",
     "traceback": [
      "\u001b[0;31m---------------------------------------------------------------------------\u001b[0m",
      "\u001b[0;31mValueError\u001b[0m                                Traceback (most recent call last)",
      "Cell \u001b[0;32mIn[2], line 1\u001b[0m\n\u001b[0;32m----> 1\u001b[0m n \u001b[38;5;241m=\u001b[39m \u001b[38;5;28;43mint\u001b[39;49m\u001b[43m(\u001b[49m\u001b[38;5;28;43minput\u001b[39;49m\u001b[43m(\u001b[49m\u001b[38;5;124;43m'\u001b[39;49m\u001b[38;5;124;43m請輸入整數\u001b[39;49m\u001b[38;5;124;43m'\u001b[39;49m\u001b[43m)\u001b[49m\u001b[43m)\u001b[49m\n\u001b[1;32m      2\u001b[0m m \u001b[38;5;241m=\u001b[39m \u001b[38;5;28mfloat\u001b[39m(\u001b[38;5;28minput\u001b[39m(\u001b[38;5;124m'\u001b[39m\u001b[38;5;124m請輸入浮點數:\u001b[39m\u001b[38;5;124m'\u001b[39m))\n\u001b[1;32m      3\u001b[0m \u001b[38;5;28mprint\u001b[39m(\u001b[38;5;124m\"\u001b[39m\u001b[38;5;124mn=\u001b[39m\u001b[38;5;124m\"\u001b[39m,n)\n",
      "\u001b[0;31mValueError\u001b[0m: invalid literal for int() with base 10: '50.8'"
     ]
    }
   ],
   "source": [
    "n = int(input('請輸入整數'))\n",
    "m = float(input('請輸入浮點數:'))\n",
    "print(\"n=\",n)\n",
    "print(\"m=\",m)"
   ]
  },
  {
   "cell_type": "code",
   "execution_count": null,
   "metadata": {},
   "outputs": [
    {
     "name": "stdout",
     "output_type": "stream",
     "text": [
      "n= 5 ,m= 50.8\n",
      "n=5,m=50.8\n"
     ]
    }
   ],
   "source": [
    "n = int(input('請輸入整數'))\n",
    "m = float(input('請輸入浮點數:'))\n",
    "print(\"n=\",n,\",m=\",m)\n",
    "print(f\"n={n},m={m}\")  #字串插補(字串格式化的簡寫)"
   ]
  },
  {
   "cell_type": "code",
   "execution_count": null,
   "metadata": {},
   "outputs": [
    {
     "name": "stdout",
     "output_type": "stream",
     "text": [
      "n=5,m=50.8\n"
     ]
    }
   ],
   "source": [
    "print(\"n=5,m=50.8\")\n"
   ]
  },
  {
   "cell_type": "code",
   "execution_count": null,
   "metadata": {},
   "outputs": [],
   "source": [
    "x=3.1415926\n",
    "print(f\"PI={x:.2f}\")"
   ]
  },
  {
   "cell_type": "code",
   "execution_count": null,
   "metadata": {},
   "outputs": [],
   "source": [
    "y = eval(input('請輸入一個數值:')) #eval可\n",
    "type(y)"
   ]
  },
  {
   "cell_type": "code",
   "execution_count": 10,
   "metadata": {},
   "outputs": [
    {
     "name": "stdout",
     "output_type": "stream",
     "text": [
      "半徑:5.00,圓面積:78.540\n"
     ]
    }
   ],
   "source": [
    "radius = eval(input('請輸入半徑:'))\n",
    "import math\n",
    "#PI = 3.1415926\n",
    "area = math.pi * radius ** 2\n",
    "print(f'半徑:{radius:.2f},圓面積:{area:.3f}')"
   ]
  },
  {
   "cell_type": "code",
   "execution_count": 11,
   "metadata": {},
   "outputs": [
    {
     "name": "stdout",
     "output_type": "stream",
     "text": [
      "半徑:1,圓面積:2\n"
     ]
    }
   ],
   "source": [
    "print(f'半徑:{1},圓面積:{2}')"
   ]
  },
  {
   "cell_type": "code",
   "execution_count": 13,
   "metadata": {},
   "outputs": [
    {
     "name": "stdout",
     "output_type": "stream",
     "text": [
      "宣恩:帥哥,宣榮:傻瓜\n"
     ]
    }
   ],
   "source": [
    "print(f'宣恩:{\"帥哥\"},宣榮:{\"傻瓜\"}')"
   ]
  },
  {
   "cell_type": "code",
   "execution_count": 15,
   "metadata": {},
   "outputs": [
    {
     "name": "stdout",
     "output_type": "stream",
     "text": [
      "蔣薰:好累唷寶寶我躺著動不了\n"
     ]
    }
   ],
   "source": [
    "print(f'蔣薰:{\"好累唷寶寶我躺著動不了\"}')"
   ]
  }
 ],
 "metadata": {
  "kernelspec": {
   "display_name": "Python 3",
   "language": "python",
   "name": "python3"
  },
  "language_info": {
   "codemirror_mode": {
    "name": "ipython",
    "version": 3
   },
   "file_extension": ".py",
   "mimetype": "text/x-python",
   "name": "python",
   "nbconvert_exporter": "python",
   "pygments_lexer": "ipython3",
   "version": "3.10.13"
  }
 },
 "nbformat": 4,
 "nbformat_minor": 2
}
