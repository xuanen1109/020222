{
 "cells": [
  {
   "cell_type": "code",
   "execution_count": 2,
   "metadata": {},
   "outputs": [
    {
     "name": "stdout",
     "output_type": "stream",
     "text": [
      "請依次輸入品項及其最大出貨量，輸入'完成'結束輸入：\n",
      "\n",
      "親愛的客戶您好！\n",
      "本次可出貨的日期為：2024-04-01，星期一（Monday）\n",
      "可出貨的品項為：無花果醬，可以出貨的最大量為：15\n",
      "\n",
      "感謝您的訂購，謝謝！\n"
     ]
    }
   ],
   "source": [
    "import datetime\n",
    "import calendar\n",
    "\n",
    "def calculate_shipping_date(year, month, week):\n",
    "    \"\"\"計算給定年份、月份和週次的星期一日期\"\"\"\n",
    "    first_day_of_month = datetime.date(year, month, 1)\n",
    "    first_weekday = first_day_of_month.weekday()\n",
    "    first_monday = first_day_of_month + datetime.timedelta(days=(7-first_weekday) % 7)\n",
    "    shipping_date = first_monday + datetime.timedelta(weeks=week-1)\n",
    "\n",
    "    if shipping_date.month != month:\n",
    "        raise ValueError(\"輸入的週次超出了該月的範圍。\")\n",
    "    \n",
    "    return shipping_date\n",
    "\n",
    "def weekday_to_chinese(weekday):\n",
    "    \"\"\"將星期數字轉換為中文\"\"\"\n",
    "    weekdays = [\"一\", \"二\", \"三\", \"四\", \"五\", \"六\", \"日\"]\n",
    "    return weekdays[weekday]\n",
    "\n",
    "def shipment_form():\n",
    "    year = int(input(\"請輸入年份：\"))\n",
    "    \n",
    "    month = input(\"請輸入月份（1-12）：\")\n",
    "    if month.isdigit() and 1 <= int(month) <= 12:\n",
    "        month = int(month)\n",
    "    else:\n",
    "        print(\"輸入的月份不正確。\")\n",
    "        return\n",
    "    \n",
    "    week = input(\"請輸入週次（1-4/5）：\")\n",
    "    if week.isdigit() and 1 <= int(week) <= 5:\n",
    "        week = int(week)\n",
    "    else:\n",
    "        print(\"輸入的週次不正確。\")\n",
    "        return\n",
    "    \n",
    "    items_with_quantities = {}\n",
    "    print(\"請依次輸入品項及其最大出貨量，輸入'完成'結束輸入：\")\n",
    "    while True:\n",
    "        item = input(\"請輸入品項（輸入'完成'結束輸入）：\")\n",
    "        if item == '完成':\n",
    "            break\n",
    "        max_quantity = input(f\"請輸入{item}的最大出貨量：\")\n",
    "        if max_quantity.isdigit():\n",
    "            items_with_quantities[item] = int(max_quantity)\n",
    "        else:\n",
    "            print(\"輸入的最大出貨量不正確，請重新輸入。\")\n",
    "    \n",
    "    try:\n",
    "        shipping_date = calculate_shipping_date(year, month, week)\n",
    "        weekday = weekday_to_chinese(shipping_date.weekday())\n",
    "        print(f\"\\n親愛的客戶您好！\\n本次可出貨的日期為：{shipping_date.strftime('%Y-%m-%d')}，星期{weekday}（{shipping_date.strftime('%A')}）\")\n",
    "        for item, quantity in items_with_quantities.items():\n",
    "            print(f\"可出貨的品項為：{item}，可以出貨的最大量為：{quantity}\")\n",
    "        print(\"\\n感謝您的訂購，謝謝！\")\n",
    "    except ValueError as e:\n",
    "        print(e)\n",
    "\n",
    "# 執行表單函數\n",
    "shipment_form()"
   ]
  }
 ],
 "metadata": {
  "kernelspec": {
   "display_name": ".venv",
   "language": "python",
   "name": "python3"
  },
  "language_info": {
   "codemirror_mode": {
    "name": "ipython",
    "version": 3
   },
   "file_extension": ".py",
   "mimetype": "text/x-python",
   "name": "python",
   "nbconvert_exporter": "python",
   "pygments_lexer": "ipython3",
   "version": "3.10.13"
  }
 },
 "nbformat": 4,
 "nbformat_minor": 2
}
