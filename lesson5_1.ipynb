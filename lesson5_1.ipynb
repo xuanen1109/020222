{
 "cells": [
  {
   "cell_type": "code",
   "execution_count": null,
   "metadata": {},
   "outputs": [],
   "source": [
    "# 90(含)~100分為「優」\n",
    "# 80(含)~89分為「甲」\n",
    "# 70(含)~79分為「乙」\n",
    "# 60(含)~69分為「丙」\n",
    "# 0(含)~59分為「丁」\n",
    "\n",
    "try:\n",
    "    score = int(input(\"請輸入學生分數:\"))\n",
    "    if score >= 90:\n",
    "        grade = '優'\n",
    "    elif score >= 80:\n",
    "        grade = '甲'\n",
    "    elif score >= 70:\n",
    "        grade = '乙'\n",
    "    elif score >= 60:\n",
    "        grade = '丙'\n",
    "    else:\n",
    "        grade = '丁'\n",
    "\n",
    "    print(f'學生等級為{grade}')    \n",
    "except:\n",
    "    print(\"格式錯誤\")"
   ]
  },
  {
   "cell_type": "code",
   "execution_count": 2,
   "metadata": {},
   "outputs": [
    {
     "name": "stdout",
     "output_type": "stream",
     "text": [
      "客戶名稱： 黃宣恩\n",
      "客戶年齡： 28 歲\n",
      "客戶身高： 180.0 公分\n",
      "客戶體重： 66.0 公斤\n",
      "很抱歉，你這個人已被黑名單\n"
     ]
    }
   ],
   "source": [
    "customer_name = input(\"請輸入客戶名稱：\")\n",
    "customer_age = int(input(\"請輸入客戶年齡：\"))\n",
    "customer_height = float(input(\"請輸入客戶身高（公分）：\"))\n",
    "customer_weight = float(input(\"請輸入客戶體重（公斤）：\"))\n",
    "\n",
    "print(\"客戶名稱：\", customer_name)\n",
    "print(\"客戶年齡：\", customer_age, \"歲\")\n",
    "print(\"客戶身高：\", customer_height, \"公分\")\n",
    "print(\"客戶體重：\", customer_weight, \"公斤\")\n",
    "\n",
    "if customer_name == '黃宣恩' and customer_height == 180:\n",
    "    print(\"很抱歉，你這個人已被黑名單\")"
   ]
  },
  {
   "cell_type": "code",
   "execution_count": null,
   "metadata": {},
   "outputs": [],
   "source": [
    "# 沒有not\n",
    "add = input(\"請問是否加分(y,n):\")\n",
    "if add == 'y':\n",
    "    print(\"加分\")\n",
    "else:\n",
    "    print(\"不加分\")"
   ]
  },
  {
   "cell_type": "code",
   "execution_count": null,
   "metadata": {},
   "outputs": [],
   "source": [
    "# 沒有not\n",
    "add = input(\"請問是否加分(y,n):\")\n",
    "if add == 'y':\n",
    "    print(\"加分\")\n",
    "else:\n",
    "    print(\"不加分\")"
   ]
  },
  {
   "cell_type": "code",
   "execution_count": null,
   "metadata": {},
   "outputs": [],
   "source": [
    "#chinese 100 同時 math 100 獎金1000\n",
    "#chinese 100 或者 math 100 獎金500\n",
    "#其它獎金0\n",
    "\n",
    "chinese = int(input(\"請輸入國文分數:\"))\n",
    "math = int(input(\"請輸入數學分數\"))\n",
    "bonus = 0\n",
    "if chinese == 100 and math == 100:\n",
    "    bonus = 1000\n",
    "elif chinese == 100 or math == 100:\n",
    "    bonus = 500\n",
    "\n",
    "print(f\"獎金:{bonus}\")"
   ]
  },
  {
   "cell_type": "code",
   "execution_count": null,
   "metadata": {},
   "outputs": [],
   "source": [
    "#1...5的總合\n",
    "total = 0\n",
    "total += 1\n",
    "total += 2\n",
    "total += 3\n",
    "total += 4\n",
    "total += 5\n",
    "\n",
    "print(f\"1...5的總合是{total}\")"
   ]
  },
  {
   "cell_type": "code",
   "execution_count": null,
   "metadata": {},
   "outputs": [],
   "source": [
    "#字串就是一個Sequence(串列資料)\n",
    "for word in 'Hello!':\n",
    "    print(word)"
   ]
  },
  {
   "cell_type": "code",
   "execution_count": null,
   "metadata": {},
   "outputs": [],
   "source": [
    "for i in range(5):\n",
    "    print(i)\n",
    "\n",
    "print(\"==========\")\n",
    "\n",
    "for i in range(1,6):\n",
    "    print(i)\n",
    "\n",
    "print(\"=========\")\n",
    "\n",
    "for i in range(1,11,2):\n",
    "    print(i)"
   ]
  },
  {
   "cell_type": "code",
   "execution_count": null,
   "metadata": {},
   "outputs": [],
   "source": [
    "total = 0\n",
    "for i in range(1,101):\n",
    "    total += i\n",
    "\n",
    "print(f'1...100的總合{total}')"
   ]
  },
  {
   "cell_type": "code",
   "execution_count": null,
   "metadata": {},
   "outputs": [],
   "source": [
    "end = int(input('請輸入1加到end的總合,end為:'))\n",
    "total = 0\n",
    "for i in range(1,end+1):\n",
    "    total += i\n",
    "\n",
    "print(f'1...{end}的總合為{total}')"
   ]
  },
  {
   "cell_type": "code",
   "execution_count": null,
   "metadata": {},
   "outputs": [],
   "source": [
    "#巢狀迴圈\n",
    "for i in range(1,10):\n",
    "    print(f'i={i}')\n",
    "    for j in range(1,10):\n",
    "        print(f'j={j}',end=' ')\n",
    "    print()\n",
    "    print(\"===========\")"
   ]
  },
  {
   "cell_type": "code",
   "execution_count": 7,
   "metadata": {},
   "outputs": [
    {
     "name": "stdout",
     "output_type": "stream",
     "text": [
      "1 * 1 =  1 1 * 2 =  2 1 * 3 =  3 1 * 4 =  4 1 * 5 =  5 1 * 6 =  6 1 * 7 =  7 1 * 8 =  8 1 * 9 =  9 \n",
      "2 * 1 =  2 2 * 2 =  4 2 * 3 =  6 2 * 4 =  8 2 * 5 = 10 2 * 6 = 12 2 * 7 = 14 2 * 8 = 16 2 * 9 = 18 \n",
      "3 * 1 =  3 3 * 2 =  6 3 * 3 =  9 3 * 4 = 12 3 * 5 = 15 3 * 6 = 18 3 * 7 = 21 3 * 8 = 24 3 * 9 = 27 \n",
      "4 * 1 =  4 4 * 2 =  8 4 * 3 = 12 4 * 4 = 16 4 * 5 = 20 4 * 6 = 24 4 * 7 = 28 4 * 8 = 32 4 * 9 = 36 \n",
      "5 * 1 =  5 5 * 2 = 10 5 * 3 = 15 5 * 4 = 20 5 * 5 = 25 5 * 6 = 30 5 * 7 = 35 5 * 8 = 40 5 * 9 = 45 \n",
      "6 * 1 =  6 6 * 2 = 12 6 * 3 = 18 6 * 4 = 24 6 * 5 = 30 6 * 6 = 36 6 * 7 = 42 6 * 8 = 48 6 * 9 = 54 \n",
      "7 * 1 =  7 7 * 2 = 14 7 * 3 = 21 7 * 4 = 28 7 * 5 = 35 7 * 6 = 42 7 * 7 = 49 7 * 8 = 56 7 * 9 = 63 \n",
      "8 * 1 =  8 8 * 2 = 16 8 * 3 = 24 8 * 4 = 32 8 * 5 = 40 8 * 6 = 48 8 * 7 = 56 8 * 8 = 64 8 * 9 = 72 \n",
      "9 * 1 =  9 9 * 2 = 18 9 * 3 = 27 9 * 4 = 36 9 * 5 = 45 9 * 6 = 54 9 * 7 = 63 9 * 8 = 72 9 * 9 = 81 \n"
     ]
    }
   ],
   "source": [
    "#巢狀迴圈\n",
    "for i in range(1,10):\n",
    "    for j in range(1,10):\n",
    "        print(f'{i:<2d}*{j:2d} = {i*j:2d}' ,end=' ')\n",
    "    print()"
   ]
  }
 ],
 "metadata": {
  "kernelspec": {
   "display_name": "Python 3",
   "language": "python",
   "name": "python3"
  },
  "language_info": {
   "codemirror_mode": {
    "name": "ipython",
    "version": 3
   },
   "file_extension": ".py",
   "mimetype": "text/x-python",
   "name": "python",
   "nbconvert_exporter": "python",
   "pygments_lexer": "ipython3",
   "version": "3.10.13"
  }
 },
 "nbformat": 4,
 "nbformat_minor": 2
}
